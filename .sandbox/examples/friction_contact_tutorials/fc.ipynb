{
 "cells": [
  {
   "cell_type": "markdown",
   "metadata": {},
   "source": [
    "### How to define and solve a friction contact problem in Siconos"
   ]
  },
  {
   "cell_type": "markdown",
   "metadata": {},
   "source": [
    "Set path to siconos install"
   ]
  },
  {
   "cell_type": "code",
   "execution_count": 4,
   "metadata": {},
   "outputs": [],
   "source": [
    "import sys\n",
    "# Set this line according to your Siconos installation\n",
    "sys.path.append(\"/Users/Franck/Softs/install-clang/siconos/lib/python3.7/site-packages/\")"
   ]
  },
  {
   "cell_type": "code",
   "execution_count": 5,
   "metadata": {},
   "outputs": [],
   "source": [
    "import siconos.fclib as fcl"
   ]
  },
  {
   "cell_type": "code",
   "execution_count": 6,
   "metadata": {},
   "outputs": [],
   "source": [
    "# Check tuto.py for details\n",
    "%run tuto.py"
   ]
  },
  {
   "cell_type": "code",
   "execution_count": 7,
   "metadata": {},
   "outputs": [],
   "source": [
    "solver_options.dparam[0] = 1e-9"
   ]
  },
  {
   "cell_type": "code",
   "execution_count": 8,
   "metadata": {},
   "outputs": [
    {
     "data": {
      "text/plain": [
       "array([1.00000000e-09, 4.67820132e-18, 1.00000000e+01, 0.00000000e+00,\n",
       "       0.00000000e+00, 0.00000000e+00, 0.00000000e+00, 0.00000000e+00,\n",
       "       0.00000000e+00, 0.00000000e+00, 0.00000000e+00, 0.00000000e+00,\n",
       "       0.00000000e+00, 0.00000000e+00, 0.00000000e+00, 0.00000000e+00,\n",
       "       0.00000000e+00, 0.00000000e+00, 0.00000000e+00, 0.00000000e+00])"
      ]
     },
     "execution_count": 8,
     "metadata": {},
     "output_type": "execute_result"
    }
   ],
   "source": [
    "solver_options.dparam"
   ]
  },
  {
   "cell_type": "code",
   "execution_count": 9,
   "metadata": {},
   "outputs": [
    {
     "data": {
      "text/plain": [
       "(array([0.        , 0.96837722, 2.90513167, 0.        , 0.96837722,\n",
       "        2.90513167, 0.        , 0.96837722, 2.90513167]),\n",
       " array([ 1.        , -0.03162278, -0.09486833,  1.        , -0.03162278,\n",
       "        -0.09486833,  1.        , -0.03162278, -0.09486833]))"
      ]
     },
     "execution_count": 9,
     "metadata": {},
     "output_type": "execute_result"
    }
   ],
   "source": [
    "velocity, reaction"
   ]
  },
  {
   "cell_type": "markdown",
   "metadata": {},
   "source": [
    "### How to read the problem from a file (.dat)"
   ]
  },
  {
   "cell_type": "code",
   "execution_count": 10,
   "metadata": {},
   "outputs": [],
   "source": [
    "filename = \"Capsules-i100-1090.dat\"\n",
    "fc3d_pb = sn.frictionContactProblemFromFile(filename)"
   ]
  },
  {
   "cell_type": "code",
   "execution_count": 11,
   "metadata": {},
   "outputs": [
    {
     "data": {
      "text/plain": [
       "<siconos.numerics.SparseBlockStructuredMatrix; proxy of <Swig Object of type 'struct SparseBlockStructuredMatrix *' at 0x121d35ae0> >"
      ]
     },
     "execution_count": 11,
     "metadata": {},
     "output_type": "execute_result"
    }
   ],
   "source": [
    "fc3d_pb.M.matrix1"
   ]
  },
  {
   "cell_type": "markdown",
   "metadata": {},
   "source": [
    "### How to download fc problem from fclib (hdf5) file\n",
    "\n",
    "Two ways of doing things : \n",
    "\n",
    "* (a) use fclib interface from numerics (requires fclib install + siconos compilation with -DWITH_FCLIB=ON)\n",
    "\n",
    "* (b) straightfoward use of h5py tools \n",
    "   --> read fields in h5 file and fill numpy arrays\n"
   ]
  },
  {
   "cell_type": "markdown",
   "metadata": {},
   "source": [
    "(a) with fclib interface\n",
    "\n",
    "Warning : in this example, we assume a local formulation.\n",
    "Check keys in h5 file (see below).\n"
   ]
  },
  {
   "cell_type": "code",
   "execution_count": 12,
   "metadata": {},
   "outputs": [],
   "source": [
    "# Open h5 file\n",
    "filename = \"./Capsules-i2007-12.hdf5\"\n",
    "with h5py.File(filename) as h5f:\n",
    "    assert 'fclib_local' in h5f\n",
    "\n",
    "# Read into fclib and convert into a numerics problem\n",
    "fcp = fcl.fclib_read_local(filename)\n",
    "fc3d = sn.from_fclib_local(fcp)"
   ]
  },
  {
   "cell_type": "code",
   "execution_count": 14,
   "metadata": {},
   "outputs": [
    {
     "data": {
      "text/plain": [
       "<siconos.numerics.SparseBlockStructuredMatrix; proxy of <Swig Object of type 'struct SparseBlockStructuredMatrix *' at 0x121d35990> >"
      ]
     },
     "execution_count": 14,
     "metadata": {},
     "output_type": "execute_result"
    }
   ],
   "source": [
    "fc3d.M.matrix1"
   ]
  },
  {
   "cell_type": "markdown",
   "metadata": {},
   "source": [
    "(b) straightfoward use of h5py"
   ]
  },
  {
   "cell_type": "code",
   "execution_count": 40,
   "metadata": {},
   "outputs": [
    {
     "name": "stdout",
     "output_type": "stream",
     "text": [
      "fclib_local\n",
      "guesses\n",
      "solution\n"
     ]
    }
   ],
   "source": [
    "# Open h5 file\n",
    "filename = \"./Capsules-i2007-12.hdf5\"\n",
    "\n",
    "h5f = h5py.File(filename)\n",
    "for it in h5f:\n",
    "    print(it) # check fields "
   ]
  },
  {
   "cell_type": "code",
   "execution_count": 41,
   "metadata": {},
   "outputs": [],
   "source": [
    "# Read W, q, mu, convert to numpy arrays if required\n",
    "W = h5f['fclib_local']['W']\n",
    "q = np.asarray(h5f['fclib_local']['vectors']['q'])\n",
    "mu = np.asarray(h5f['fclib_local']['vectors']['mu'])  \n",
    "\n",
    "# Check matrix type, assume csr\n",
    "assert W['nz'][(0)] == -2\n"
   ]
  },
  {
   "cell_type": "code",
   "execution_count": 42,
   "metadata": {},
   "outputs": [
    {
     "data": {
      "text/plain": [
       "array([[ 2.00334045e+00, -5.49290862e-02, -1.12584711e-04, ...,\n",
       "         0.00000000e+00,  0.00000000e+00,  0.00000000e+00],\n",
       "       [-5.49290862e-02,  6.96521974e+00,  2.99981220e-03, ...,\n",
       "         0.00000000e+00,  0.00000000e+00,  0.00000000e+00],\n",
       "       [-1.12584729e-04,  2.99981149e-03,  6.96736465e+00, ...,\n",
       "         0.00000000e+00,  0.00000000e+00,  0.00000000e+00],\n",
       "       ...,\n",
       "       [ 0.00000000e+00,  0.00000000e+00,  0.00000000e+00, ...,\n",
       "         1.89621260e+00, -1.77303675e-01,  6.31694721e-01],\n",
       "       [ 0.00000000e+00,  0.00000000e+00,  0.00000000e+00, ...,\n",
       "        -1.76492894e-01,  3.25033431e+00,  5.20439295e-01],\n",
       "       [ 0.00000000e+00,  0.00000000e+00,  0.00000000e+00, ...,\n",
       "         6.31930714e-01,  5.19821128e-01,  1.63310907e+00]])"
      ]
     },
     "execution_count": 42,
     "metadata": {},
     "output_type": "execute_result"
    }
   ],
   "source": [
    "import scipy.sparse as ssp\n",
    "# Write it into scipy sparse\n",
    "indptr = W['p']\n",
    "indices = np.asarray(W['i'])\n",
    "x = np.asarray(W['x'])\n",
    "Wmat = ssp.csr_matrix((x,indices,indptr))\n",
    "Wmat.toarray() "
   ]
  },
  {
   "cell_type": "code",
   "execution_count": 48,
   "metadata": {},
   "outputs": [],
   "source": [
    "# Read solutions\n",
    "reaction = np.asarray(h5f['solution']['r'])\n",
    "velo = np.asarray(h5f['solution']['u'])"
   ]
  },
  {
   "cell_type": "code",
   "execution_count": 71,
   "metadata": {},
   "outputs": [],
   "source": [
    "# Build numerics problem\n",
    "fc3d_3 = sn.FrictionContactProblem(3, mu.shape[0], Wmat, q, mu)"
   ]
  },
  {
   "cell_type": "code",
   "execution_count": 55,
   "metadata": {},
   "outputs": [],
   "source": [
    "# Close hdf5 file\n",
    "h5f.close()"
   ]
  },
  {
   "cell_type": "markdown",
   "metadata": {},
   "source": [
    "## Python profiling tools\n",
    "\n",
    "https://jakevdp.github.io/PythonDataScienceHandbook/01.07-timing-and-profiling.html\n",
    "\n",
    "https://lothiraldan.github.io/2018-02-18-python-line-profiler-without-magic/\n",
    "\n",
    "https://github.com/rkern/line_profiler"
   ]
  },
  {
   "cell_type": "code",
   "execution_count": 50,
   "metadata": {},
   "outputs": [],
   "source": [
    "%load_ext line_profiler"
   ]
  },
  {
   "cell_type": "markdown",
   "metadata": {},
   "source": [
    "Examples of usage ..."
   ]
  },
  {
   "cell_type": "code",
   "execution_count": 65,
   "metadata": {},
   "outputs": [],
   "source": [
    "def solve(pb, reaction, velocity, solver_options):\n",
    "    sn.fc3d_driver(pb, reaction, velocity, solver_options)\n",
    "    \n",
    "def build_and_solve_fc(pb):\n",
    "    nc = pb.numberOfContacts\n",
    "    dim = pb.dimension\n",
    "    velocity = np.zeros(dim * nc, dtype=np.float64)\n",
    "    reaction = np.zeros_like(velocity)\n",
    "\n",
    "    solver_options = sn.SolverOptions(sn.SICONOS_FRICTION_3D_NSGS)#sn.SICONOS_FRICTION_3D_FPP)\n",
    "    eps = np.finfo(np.float64).eps\n",
    "    solver_options.dparam[0] = 100 * eps\n",
    "    solve(pb, reaction, velocity, solver_options)\n",
    "    \n",
    "def run(filename):\n",
    "    fcp = fcl.fclib_read_local(filename)\n",
    "    fc3d = sn.from_fclib_local(fcp)\n",
    "    build_and_solve_fc(fc3d)\n",
    "\n",
    "\n"
   ]
  },
  {
   "cell_type": "code",
   "execution_count": 66,
   "metadata": {},
   "outputs": [],
   "source": [
    "filename = \"Capsules-i2007-12.hdf5\""
   ]
  },
  {
   "cell_type": "code",
   "execution_count": 67,
   "metadata": {},
   "outputs": [
    {
     "name": "stdout",
     "output_type": "stream",
     "text": [
      "961 µs ± 18.9 µs per loop (mean ± std. dev. of 7 runs, 1000 loops each)\n"
     ]
    }
   ],
   "source": [
    "%timeit run(filename)"
   ]
  },
  {
   "cell_type": "code",
   "execution_count": 69,
   "metadata": {},
   "outputs": [
    {
     "data": {
      "text/plain": [
       "Timer unit: 1e-06 s\n",
       "\n",
       "Total time: 0.000585 s\n",
       "File: <ipython-input-65-d1bc6d9e636c>\n",
       "Function: build_and_solve_fc at line 4\n",
       "\n",
       "Line #      Hits         Time  Per Hit   % Time  Line Contents\n",
       "==============================================================\n",
       "     4                                           def build_and_solve_fc(pb):\n",
       "     5         1          3.0      3.0      0.5      nc = pb.numberOfContacts\n",
       "     6         1          2.0      2.0      0.3      dim = pb.dimension\n",
       "     7         1         13.0     13.0      2.2      velocity = np.zeros(dim * nc, dtype=np.float64)\n",
       "     8         1         25.0     25.0      4.3      reaction = np.zeros_like(velocity)\n",
       "     9                                           \n",
       "    10         1         14.0     14.0      2.4      solver_options = sn.SolverOptions(sn.SICONOS_FRICTION_3D_NSGS)#sn.SICONOS_FRICTION_3D_FPP)\n",
       "    11         1         11.0     11.0      1.9      eps = np.finfo(np.float64).eps\n",
       "    12         1          9.0      9.0      1.5      solver_options.dparam[0] = 100 * eps\n",
       "    13         1        508.0    508.0     86.8      solve(pb, reaction, velocity, solver_options)"
      ]
     },
     "metadata": {},
     "output_type": "display_data"
    }
   ],
   "source": [
    "%lprun -f  build_and_solve_fc run(filename)"
   ]
  },
  {
   "cell_type": "code",
   "execution_count": null,
   "metadata": {},
   "outputs": [],
   "source": []
  }
 ],
 "metadata": {
  "kernelspec": {
   "display_name": "Python 3",
   "language": "python",
   "name": "python3"
  },
  "language_info": {
   "codemirror_mode": {
    "name": "ipython",
    "version": 3
   },
   "file_extension": ".py",
   "mimetype": "text/x-python",
   "name": "python",
   "nbconvert_exporter": "python",
   "pygments_lexer": "ipython3",
   "version": "3.7.3"
  }
 },
 "nbformat": 4,
 "nbformat_minor": 2
}
