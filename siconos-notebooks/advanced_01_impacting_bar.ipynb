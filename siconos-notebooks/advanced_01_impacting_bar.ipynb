{
 "cells": [
  {
   "cell_type": "markdown",
   "metadata": {},
   "source": [
    "# Impacting elastic bar on a rigid obstacle\n",
    "\n",
    "\n",
    "## Prerequisites\n",
    "\n",
    "\n",
    "### Jupyter notebooks reminder\n",
    "\n",
    "A notebook is a sequence of \"cells\" that can be executed.\n",
    "\n",
    "\n",
    "Each cell can handle either python code or markdown for comments.\n",
    "\n",
    "* Edit a cell : Enter\n",
    "* Execute a cell: Shift + Enter\n",
    "* Run all cells : kernel menu (top of the page) --> Run all\n",
    "* Delete cell : DD\n",
    "* Add cell : Ctrl-mb\n",
    "* Shortcuts reminder : Ctrl-m h\n",
    "* List all magic commands : %lsmagic\n",
    "\n",
    "More :  https://jupyter-notebook-beginner-guide.readthedocs.io/en/latest/what_is_jupyter.html#references\n",
    "\n",
    "Warning : cells can be executed in any order but results and variables are persistent (until a call to %reset or kernel->restart)\n",
    "\n"
   ]
  },
  {
   "cell_type": "markdown",
   "metadata": {},
   "source": [
    "### Import siconos components\n",
    "you may need to set PYTHONPATH or sys.path if siconos python packages are not in standard places."
   ]
  },
  {
   "cell_type": "code",
   "execution_count": 1,
   "metadata": {},
   "outputs": [],
   "source": [
    "from numpy.linalg import norm\n",
    "from siconos.kernel import LagrangianLinearTIDS, NewtonImpactNSL,\\\n",
    "    LagrangianLinearTIR, Interaction, NonSmoothDynamicalSystem, MoreauJeanOSI,\\\n",
    "    TimeDiscretisation, LCP, TimeStepping\n",
    "\n",
    "from siconos.kernel import SimpleMatrix, getMatrix, SPARSE\n",
    "import numpy as np"
   ]
  },
  {
   "cell_type": "markdown",
   "metadata": {},
   "source": [
    "# I - Modeling : NonSmooth Dynamical Systems (NSDS) definition \n",
    "--> Dynamical systems, constraints, nonsmooth laws ..."
   ]
  },
  {
   "cell_type": "code",
   "execution_count": 2,
   "metadata": {},
   "outputs": [],
   "source": [
    "# User-defined main parameters\n",
    "nDof = 500  #degrees of freedom for the beam\n",
    "t0 = 1e-8    #initial computation time\n",
    "T = 0.0015                  # final computation time\n",
    "h = 2e-7                # time step\n",
    "position_init = 0.00005      # initial position\n",
    "velocity_init =  -.1      # initial velocity\n",
    "epsilon = 0.5#1e-1\n",
    "theta = 1/2.0 + epsilon              # theta for MoreauJeanOSI integrator\n",
    "#theta = 1.0\n",
    "E = 210e9 # young Modulus\n",
    "S = 0.000314 #  Beam Section 1 cm  for the diameter\n",
    "#S=0.1\n",
    "L = 1.0 # length of the  beam\n",
    "l = L/nDof # length of an element\n",
    "rho = 7800.0  # specific mass\n",
    "#rho=1.0\n",
    "g = 9.81 # Gravity\n",
    "g=0.0"
   ]
  },
  {
   "cell_type": "code",
   "execution_count": 3,
   "metadata": {},
   "outputs": [
    {
     "name": "stderr",
     "output_type": "stream",
     "text": [
      "/opt/local/Library/Frameworks/Python.framework/Versions/3.5/lib/python3.5/site-packages/ipykernel_launcher.py:7: SparseEfficiencyWarning: Changing the sparsity structure of a csr_matrix is expensive. lil_matrix is more efficient.\n",
      "  import sys\n",
      "/opt/local/Library/Frameworks/Python.framework/Versions/3.5/lib/python3.5/site-packages/ipykernel_launcher.py:8: SparseEfficiencyWarning: Changing the sparsity structure of a csr_matrix is expensive. lil_matrix is more efficient.\n",
      "  \n",
      "/opt/local/Library/Frameworks/Python.framework/Versions/3.5/lib/python3.5/site-packages/ipykernel_launcher.py:9: SparseEfficiencyWarning: Changing the sparsity structure of a csr_matrix is expensive. lil_matrix is more efficient.\n",
      "  if __name__ == '__main__':\n",
      "/opt/local/Library/Frameworks/Python.framework/Versions/3.5/lib/python3.5/site-packages/ipykernel_launcher.py:10: SparseEfficiencyWarning: Changing the sparsity structure of a csr_matrix is expensive. lil_matrix is more efficient.\n",
      "  # Remove the CWD from sys.path while we load stuff.\n",
      "/opt/local/Library/Frameworks/Python.framework/Versions/3.5/lib/python3.5/site-packages/ipykernel_launcher.py:13: SparseEfficiencyWarning: Changing the sparsity structure of a csr_matrix is expensive. lil_matrix is more efficient.\n",
      "  del sys.path[0]\n",
      "/opt/local/Library/Frameworks/Python.framework/Versions/3.5/lib/python3.5/site-packages/ipykernel_launcher.py:14: SparseEfficiencyWarning: Changing the sparsity structure of a csr_matrix is expensive. lil_matrix is more efficient.\n",
      "  \n",
      "/opt/local/Library/Frameworks/Python.framework/Versions/3.5/lib/python3.5/site-packages/ipykernel_launcher.py:15: SparseEfficiencyWarning: Changing the sparsity structure of a csr_matrix is expensive. lil_matrix is more efficient.\n",
      "  from ipykernel import kernelapp as app\n",
      "/opt/local/Library/Frameworks/Python.framework/Versions/3.5/lib/python3.5/site-packages/ipykernel_launcher.py:16: SparseEfficiencyWarning: Changing the sparsity structure of a csr_matrix is expensive. lil_matrix is more efficient.\n",
      "  app.launch_new_instance()\n",
      "/opt/local/Library/Frameworks/Python.framework/Versions/3.5/lib/python3.5/site-packages/ipykernel_launcher.py:17: SparseEfficiencyWarning: Changing the sparsity structure of a csr_matrix is expensive. lil_matrix is more efficient.\n",
      "/opt/local/Library/Frameworks/Python.framework/Versions/3.5/lib/python3.5/site-packages/ipykernel_launcher.py:18: SparseEfficiencyWarning: Changing the sparsity structure of a csr_matrix is expensive. lil_matrix is more efficient.\n"
     ]
    },
    {
     "name": "stdout",
     "output_type": "stream",
     "text": [
      "[[ 1. -1.  0. ...  0.  0.  0.]\n",
      " [-1.  2. -1. ...  0.  0.  0.]\n",
      " [ 0. -1.  2. ...  0.  0.  0.]\n",
      " ...\n",
      " [ 0.  0.  0. ...  2. -1.  0.]\n",
      " [ 0.  0.  0. ... -1.  2. -1.]\n",
      " [ 0.  0.  0. ...  0. -1.  1.]]\n",
      "[[0.33333333 0.16666667 0.         ... 0.         0.         0.        ]\n",
      " [0.16666667 0.66666667 0.16666667 ... 0.         0.         0.        ]\n",
      " [0.         0.16666667 0.66666667 ... 0.         0.         0.        ]\n",
      " ...\n",
      " [0.         0.         0.         ... 0.66666667 0.16666667 0.        ]\n",
      " [0.         0.         0.         ... 0.16666667 0.66666667 0.16666667]\n",
      " [0.         0.         0.         ... 0.         0.16666667 0.33333333]]\n"
     ]
    },
    {
     "name": "stderr",
     "output_type": "stream",
     "text": [
      "/opt/local/Library/Frameworks/Python.framework/Versions/3.5/lib/python3.5/site-packages/ipykernel_launcher.py:21: SparseEfficiencyWarning: Changing the sparsity structure of a csr_matrix is expensive. lil_matrix is more efficient.\n",
      "/opt/local/Library/Frameworks/Python.framework/Versions/3.5/lib/python3.5/site-packages/ipykernel_launcher.py:22: SparseEfficiencyWarning: Changing the sparsity structure of a csr_matrix is expensive. lil_matrix is more efficient.\n",
      "/opt/local/Library/Frameworks/Python.framework/Versions/3.5/lib/python3.5/site-packages/ipykernel_launcher.py:23: SparseEfficiencyWarning: Changing the sparsity structure of a csr_matrix is expensive. lil_matrix is more efficient.\n",
      "/opt/local/Library/Frameworks/Python.framework/Versions/3.5/lib/python3.5/site-packages/ipykernel_launcher.py:24: SparseEfficiencyWarning: Changing the sparsity structure of a csr_matrix is expensive. lil_matrix is more efficient.\n"
     ]
    }
   ],
   "source": [
    "from scipy.sparse import csr_matrix\n",
    "\n",
    "K = csr_matrix((nDof, nDof))\n",
    "M = csr_matrix((nDof, nDof))\n",
    "\n",
    "\n",
    "K[0,0] = 1.\n",
    "K[0,1] = -1.\n",
    "M[0,0] = 1/3.\n",
    "M[0,1] = 1/6.\n",
    "\n",
    "for i in range(1,nDof-1):\n",
    "    K[i,i] = 2.\n",
    "    K[i,i-1] = -1.\n",
    "    K[i,i+1] = -1.\n",
    "    M[i,i] = 2/3.\n",
    "    M[i,i-1] = 1/6.\n",
    "    M[i,i+1] = 1/6.\n",
    "\n",
    "\n",
    "K[nDof-1,nDof-2] = -1.\n",
    "K[nDof-1,nDof-1] = 1.\n",
    "M[nDof-1,nDof-2] = 1/6.\n",
    "M[nDof-1,nDof-1] = 1/3.\n",
    "\n",
    "print(K.toarray())\n",
    "print(M.toarray())\n"
   ]
  },
  {
   "cell_type": "code",
   "execution_count": 4,
   "metadata": {},
   "outputs": [],
   "source": [
    "M= SimpleMatrix(nDof,nDof,SPARSE,nDof)\n",
    "K= SimpleMatrix(nDof,nDof,SPARSE,nDof)\n",
    "K.setValue(0,0, 1.*E*S/l)\n",
    "K.setValue(0,1,-1.*E*S/l)\n",
    "M.setValue(0,0, 1/3.*rho*S*l)\n",
    "M.setValue(0,1, 1/6.*rho*S*l)\n",
    "\n",
    "for i in range(1,nDof-1):\n",
    "    K.setValue(i,i,2.*E*S/l)\n",
    "    K.setValue(i,i-1,-1.*E*S/l)\n",
    "    K.setValue(i,i+1,-1.*E*S/l)\n",
    "    M.setValue(i,i,2/3.*rho*S*l)\n",
    "    M.setValue(i,i-1,1/6.*rho*S*l)\n",
    "    M.setValue(i,i+1,1/6.*rho*S*l)\n",
    "\n",
    "\n",
    "K.setValue(nDof-1,nDof-2,-1.*E*S/l)\n",
    "K.setValue(nDof-1,nDof-1, 1.*E*S/l)\n",
    "M.setValue(nDof-1,nDof-2,1/6.*rho*S*l)\n",
    "M.setValue(nDof-1,nDof-1,1/3.*rho*S*l)\n"
   ]
  },
  {
   "cell_type": "code",
   "execution_count": 5,
   "metadata": {},
   "outputs": [],
   "source": [
    "q0 = np.full((nDof), position_init)\n",
    "v0 = np.full((nDof), velocity_init)\n"
   ]
  },
  {
   "cell_type": "code",
   "execution_count": 7,
   "metadata": {},
   "outputs": [],
   "source": [
    "bar = LagrangianLinearTIDS(q0,v0,M)\n",
    "bar.setKPtr(K)\n",
    "#bar.display()\n",
    "\n",
    "weight = np.full((nDof),-g*rho*S/l)\n",
    "bar.setFExtPtr(weight)\n"
   ]
  },
  {
   "cell_type": "code",
   "execution_count": 8,
   "metadata": {},
   "outputs": [],
   "source": [
    "e=0.0\n",
    "\n",
    "H = np.zeros((1,nDof))\n",
    "H[0,0]=1.\n",
    "\n",
    "nslaw = NewtonImpactNSL(e)\n",
    "relation = LagrangianLinearTIR(H)\n",
    "inter = Interaction(nslaw, relation)"
   ]
  },
  {
   "cell_type": "code",
   "execution_count": 9,
   "metadata": {},
   "outputs": [],
   "source": [
    "# -------------\n",
    "# --- Model ---\n",
    "# -------------\n",
    "impactingBar = NonSmoothDynamicalSystem(t0, T)\n",
    "\n",
    "# add the dynamical system in the non smooth dynamical system\n",
    "impactingBar.insertDynamicalSystem(bar);\n",
    "\n",
    "# link the interaction and the dynamical system\n",
    "impactingBar.link(inter,bar);\n"
   ]
  },
  {
   "cell_type": "markdown",
   "metadata": {},
   "source": [
    "# II - Simulation definition"
   ]
  },
  {
   "cell_type": "code",
   "execution_count": 10,
   "metadata": {},
   "outputs": [],
   "source": [
    "\n",
    "# ------------------\n",
    "# --- Simulation ---\n",
    "# ------------------\n",
    "\n",
    "# -- (1) OneStepIntegrators --\n",
    "OSI = MoreauJeanOSI(theta,0.5)\n",
    "\n",
    "# -- (2) Time discretisation --\n",
    "t = TimeDiscretisation(t0,h)\n",
    "\n",
    "# -- (3) one step non smooth problem\n",
    "osnspb = LCP()\n",
    "\n",
    "s = TimeStepping(impactingBar, t,OSI,osnspb)"
   ]
  },
  {
   "cell_type": "markdown",
   "metadata": {},
   "source": [
    "The model is now complete and ready to run\n",
    "\n",
    "# III -  Running the simulation"
   ]
  },
  {
   "cell_type": "code",
   "execution_count": 11,
   "metadata": {},
   "outputs": [],
   "source": [
    "k =0\n",
    "\n",
    "N = int((T-t0)/h)\n",
    "dataPlot = np.zeros((N+1, 5))\n",
    "\n",
    "q = bar.q()\n",
    "v = bar.velocity()\n",
    "p = bar.p(1)\n",
    "lambda_ = inter.lambda_(1)\n",
    "\n",
    "# time loop\n",
    "while s.hasNextEvent():\n",
    "    s.computeOneStep()\n",
    "\n",
    "    dataPlot[k, 0] = s.nextTime()\n",
    "    dataPlot[k, 1] = q[0]\n",
    "    dataPlot[k, 2] = v[0]\n",
    "    dataPlot[k, 3] = p[0]/h\n",
    "    dataPlot[k, 4] = lambda_[0]\n",
    "\n",
    "    k += 1\n",
    "    s.nextStep()\n",
    "\n",
    "dataPlot.resize(k,5)\n",
    "    "
   ]
  },
  {
   "cell_type": "markdown",
   "metadata": {},
   "source": [
    "## IV - Post-processing"
   ]
  },
  {
   "cell_type": "code",
   "execution_count": null,
   "metadata": {},
   "outputs": [],
   "source": [
    "\n",
    "import matplotlib.pyplot as plt\n",
    "%matplotlib inline  \n",
    "fig_size = [14, 14]\n",
    "plt.rcParams[\"figure.figsize\"] = fig_size\n",
    "\n",
    "plt.subplot(411)\n",
    "plt.title('position')\n",
    "plt.plot(dataPlot[:, 0], dataPlot[:, 1])\n",
    "plt.grid()\n",
    "plt.subplot(412)\n",
    "plt.title('velocity')\n",
    "plt.plot(dataPlot[:, 0], dataPlot[:, 2])\n",
    "plt.grid()\n",
    "plt.subplot(413)\n",
    "plt.plot(dataPlot[:, 0], dataPlot[:, 3])\n",
    "plt.title('reaction')\n",
    "plt.grid()\n",
    "plt.subplot(414)\n",
    "plt.plot(dataPlot[:, 0], dataPlot[:, 4])\n",
    "plt.title('lambda')\n",
    "plt.grid()\n",
    "\n",
    "\n",
    "plt.show()"
   ]
  },
  {
   "cell_type": "code",
   "execution_count": null,
   "metadata": {
    "collapsed": true
   },
   "outputs": [],
   "source": []
  }
 ],
 "metadata": {
  "kernelspec": {
   "display_name": "Python 3",
   "language": "python",
   "name": "python3"
  },
  "language_info": {
   "codemirror_mode": {
    "name": "ipython",
    "version": 3
   },
   "file_extension": ".py",
   "mimetype": "text/x-python",
   "name": "python",
   "nbconvert_exporter": "python",
   "pygments_lexer": "ipython3",
   "version": "3.5.7"
  }
 },
 "nbformat": 4,
 "nbformat_minor": 2
}
