{
 "cells": [
  {
   "cell_type": "markdown",
   "metadata": {},
   "source": [
    "# Siconos tutorial : A 4 diodes bridge wave rectifier."
   ]
  },
  {
   "cell_type": "markdown",
   "metadata": {},
   "source": [
    "## Prerequisites\n",
    "\n",
    "\n",
    "### Jupyter notebooks reminder\n",
    "\n",
    "A notebook is a sequence of \"cells\" that can be executed.\n",
    "\n",
    "\n",
    "Each cell can handle either python code or markdown for comments.\n",
    "\n",
    "* Edit a cell : Enter\n",
    "* Execute a cell: Shift + Enter\n",
    "* Run all cells : kernel menu (top of the page) --> Run all\n",
    "* Delete cell : DD\n",
    "* Add cell : Ctrl-mb\n",
    "* Shortcuts reminder : Ctrl-m h\n",
    "* List all magic commands : %lsmagic\n",
    "\n",
    "More : https://jupyterlab.readthedocs.io/en/stable/\n",
    "\n",
    "Warning : cells can be executed in any order but results and variables are persistent (until a call to %reset or kernel->restart)\n",
    "\n"
   ]
  },
  {
   "cell_type": "markdown",
   "metadata": {},
   "source": [
    "### Import siconos components\n",
    "\n",
    "'siconos' python packages must be available in your python environment.\n",
    "\n",
    "You may need to set PYTHONPATH or sys.path if siconos python packages are not in standard places."
   ]
  },
  {
   "cell_type": "code",
   "execution_count": null,
   "metadata": {},
   "outputs": [],
   "source": [
    "# Check sys.path content\n",
    "import sys\n",
    "sys.path\n",
    "# Try for example :\n",
    "# sys.path.append('<PATH_TO_YOUR_SICONOS_INSTALL/lib/python3.6/site-packages')"
   ]
  },
  {
   "cell_type": "code",
   "execution_count": null,
   "metadata": {},
   "outputs": [],
   "source": [
    "# Main interface to siconos functionnalities : \n",
    "# non smooth model description, simulation setup ...\n",
    "import siconos.kernel as sk    \n",
    "\n",
    "# \"Low-level\" nonsmooth solvers\n",
    "import siconos.numerics as sn\n",
    "\n",
    "# Python package for scientific computing\n",
    "import numpy as np"
   ]
  },
  {
   "cell_type": "markdown",
   "metadata": {},
   "source": [
    "# I - Modeling : NonSmooth Dynamical Systems (NSDS) definition \n",
    "--> Dynamical systems, constraints, nonsmooth laws ..."
   ]
  },
  {
   "cell_type": "markdown",
   "metadata": {},
   "source": [
    "## The dynamical system"
   ]
  },
  {
   "cell_type": "markdown",
   "metadata": {},
   "source": [
    "Consider the following example, a 4-diodes bridge wave rectifier"
   ]
  },
  {
   "cell_type": "markdown",
   "metadata": {},
   "source": [
    "![title](../figures/diodeBridge.png \"DiodeBridge\")"
   ]
  },
  {
   "cell_type": "markdown",
   "metadata": {},
   "source": [
    "Using the Kirchhoff current and voltage laws and branch constitutive equations, the dynamics of the system reads as\n",
    "\n",
    "$$   \\left[\\begin{array}{c} \n",
    "   \\dot v_C\\\\\n",
    "   \\dot i_L\n",
    "   \\end{array}\\right]=\n",
    "   \\left[\\begin{array}{cc} \n",
    "   0 & \\frac{-1}{C}\\\\\n",
    "   \\frac{1}{L} & 0\n",
    "   \\end{array}\\right].\n",
    "   \\left[\\begin{array}{c} \n",
    "   v_C\\\\\n",
    "   i_L\n",
    "   \\end{array}\\right]\n",
    "   +\n",
    "   \\left[\\begin{array}{cccc} \n",
    "   0 & 0 & \\frac{-1}{C} & \\frac{1}{C}\\\\\n",
    "   0 & 0 & 0 & 0\n",
    "   \\end{array}\\right]\n",
    "   \\left[\\begin{array}{c} \n",
    "   -v_{DR1}\\\\\n",
    "   -v_{DF2}\\\\\n",
    "   i_{DF1}\\\\\n",
    "   i_{DR2}\n",
    "   \\end{array}\\right]\n",
    "$$\n",
    "\n",
    "Introducing the following notation\n",
    "\n",
    "$$\n",
    "   x = \\left[\\begin{array}{c} \n",
    "   \\dot v_C\\\\\n",
    "   \\dot i_L\n",
    "   \\end{array}\\right], \\\n",
    "   \\lambda = \\left[\\begin{array}{c} \n",
    "   -v_{DR1}\\\\\n",
    "   -v_{DF2}\\\\\n",
    "   i_{DF1}\\\\\n",
    "   i_{DR2}\n",
    "   \\end{array}\\right],\\quad A=\\left[\\begin{array}{cc} \n",
    "   0 & \\frac{-1}{C}\\\\\n",
    "   \\frac{1}{L} & 0\n",
    "   \\end{array}\\right], \\quad\n",
    "   r = \n",
    "   \\left[\\begin{array}{cccc} \n",
    "   0 & 0 & \\frac{-1}{C} & \\frac{1}{C}\\\\\n",
    "   0 & 0 & 0 & 0\n",
    "   \\end{array}\\right]\n",
    "   \\left[\\begin{array}{c} \n",
    "   -v_{DR1}\\\\\n",
    "   -v_{DF2}\\\\\n",
    "   i_{DF1}\\\\\n",
    "   i_{DR2}\n",
    "   \\end{array}\\right]\n",
    "$$\n",
    "\n",
    "we get a first order linear system $$\\dot x(t) = A x(t) + r(t)$$\n",
    "\n",
    "Such systems are defined in Siconos calling the constructor of  the class `FirstOrderLinearTIDS` in a  simple way:"
   ]
  },
  {
   "cell_type": "code",
   "execution_count": null,
   "metadata": {},
   "outputs": [],
   "source": [
    "# dynamical system parameters\n",
    "Lvalue = 1e-2    # inductance\n",
    "Cvalue = 1e-6    # capacitance\n",
    "Rvalue = 1e3     # resistance\n",
    "Vinit = 10.0     # initial voltage\n",
    "x0 = [Vinit, 0.] # initial state\n",
    "# A matrix of the linear oscillator\n",
    "A = np.zeros((2, 2), dtype=np.float64)\n",
    "A.flat[...] = [0., -1.0/Cvalue, 1.0/Lvalue, 0.]\n",
    "\n",
    "# build the dynamical system\n",
    "ds = sk.FirstOrderLinearTIDS(x0, A)"
   ]
  },
  {
   "cell_type": "markdown",
   "metadata": {},
   "source": [
    "To get more details on this (or any other) class of DS, try:"
   ]
  },
  {
   "cell_type": "code",
   "execution_count": null,
   "metadata": {},
   "outputs": [],
   "source": [
    "help(sk.FirstOrderLinearDS)"
   ]
  },
  {
   "cell_type": "markdown",
   "metadata": {},
   "source": [
    "## Nonsmooth laws and constraints\n",
    "\n",
    "Now, the nonsmooth part of the system must be defined, namely what are the nonsmooth laws and constraints between the variables. In Siconos, the definition of a nonsmooth law and a relation between one or two dynamical systems is called an `Interaction`. Thus, the definition of a set of dynamical systems and of interactions between them will lead to the complete nonsmooth dynamical system.\n",
    "\n",
    "For the oscillator in Fig 1: Diode bridge, we need to define the variables (current and voltages) across the diodes in terms of the state variable $x$ and the input $r$.\n",
    "\n",
    "$$\n",
    "   \\left[ \\begin{array}{c}\n",
    "   i_{DR1}\\\\\n",
    "   i_{DF2}\\\\\n",
    "   -v_{DF1}\\\\\n",
    "   -v_{DR2}\n",
    "   \\end{array} \\right]\n",
    "   = \n",
    "   \\left[ \\begin{array}{cc}\n",
    "   0 & 0\\\\\n",
    "   0 & 0\\\\\n",
    "   -1 & 0\\\\\n",
    "   1 & 0\n",
    "   \\end{array} \\right]\n",
    "   \\cdot\n",
    "   \\left[ \\begin{array}{c}\n",
    "   v_C\\\\\n",
    "   i_L\n",
    "   \\end{array} \\right]\n",
    "   +\n",
    "   \\left[ \\begin{array}{cccc}\n",
    "   \\frac{1}{R} & \\frac{1}{R} & -1 & 0\\\\\n",
    "   \\frac{1}{R} & \\frac{1}{R} & 0 & -1\\\\\n",
    "   1 & 0 & 0 & 0\\\\\n",
    "   0 & 1 & 0 & 0\n",
    "   \\end{array} \\right]\n",
    "   \\cdot\n",
    "   \\left[ \\begin{array}{c}\n",
    "   -v_{DR1}\\\\\n",
    "   -v_{DF2}\\\\\n",
    "   i_{DF1}\\\\\n",
    "   i_{DR2}\n",
    "   \\end{array} \\right],\n",
    "   r = \n",
    "   \\left[\\begin{array}{cccc} \n",
    "   0 & 0 & \\frac{-1}{C} & \\frac{1}{C}\\\\\n",
    "   0 & 0 & 0 & 0\n",
    "   \\end{array}\\right]\n",
    "   \\left[\\begin{array}{c} \n",
    "   -v_{DR1}\\\\\n",
    "   -v_{DF2}\\\\\n",
    "   i_{DF1}\\\\\n",
    "   i_{DR2}\n",
    "   \\end{array}\\right]\n",
    "$$\n",
    "\n",
    "By choosing\n",
    "$$\n",
    "\\begin{array}{ccccccccc}\n",
    "   y&=&\\left[ \\begin{array}{c}i_{DR1}\\\\i_{DF2}\\\\-v_{DF1}\\\\-v_{DR2}\\end{array} \\right], \n",
    "\\end{array}\n",
    "$$\n",
    "and\n",
    "$$\n",
    " \\lambda = \\left[\\begin{array}{c} \n",
    "   -v_{DR1}\\\\\n",
    "   -v_{DF2}\\\\\n",
    "   i_{DF1}\\\\\n",
    "   i_{DR2}\n",
    "   \\end{array}\\right], \n",
    "$$\n",
    "\n",
    "a linear relation of the form \n",
    "\n",
    "$$\\begin{cases} y = Cx + D\\lambda, \\\\ r = B\\lambda\\end{cases}$$\n",
    "\n",
    "can be writtem. The matrices of the linear relation are\n",
    "$$\n",
    " B = \\left[\\begin{array}{cccc} \n",
    "   0 & 0 & \\frac{-1}{C} & \\frac{1}{C}\\\\\n",
    "   0 & 0 & 0 & 0\n",
    "   \\end{array}\\right],\\quad\n",
    "     C = \\left[ \\begin{array}{cc}\n",
    "   0 & 0\\\\\n",
    "   0 & 0\\\\\n",
    "   -1 & 0\\\\\n",
    "   1 & 0\n",
    "   \\end{array} \\right],\\quad\n",
    "   \\begin{array}{ccccccccc}\n",
    "   D &=& \\left[ \\begin{array}{cccc}\\frac{1}{R} & \\frac{1}{R} & -1 & 0\\\\ \\frac{1}{R} & \\frac{1}{R} & 0 & -1\\\\1 & 0 & 0 & 0\\\\0 & 1 & 0 & 0\\end{array} \\right]. \n",
    "\\end{array}\n",
    "$$\n",
    "\n",
    "\n",
    "\n",
    "This is implemented in siconos calling the constructor of  the class `FirstOrderLinearTIR` :"
   ]
  },
  {
   "cell_type": "code",
   "execution_count": null,
   "metadata": {},
   "outputs": [],
   "source": [
    "# B, C, D matrices of the relation\n",
    "C = [[0.,   0.],\n",
    "    [0,    0.],\n",
    "    [-1.,  0.],\n",
    "    [1.,   0.]]\n",
    "\n",
    "D = [[1./Rvalue, 1./Rvalue, -1.,  0.],\n",
    "    [1./Rvalue, 1./Rvalue,  0., -1.],\n",
    "    [1.,        0.,         0.,  0.],\n",
    "    [0.,        1.,         0.,  0.]]\n",
    "\n",
    "B = [[0.,        0., -1./Cvalue, 1./Cvalue],\n",
    "    [0.,        0.,  0.,        0.       ]]\n",
    "\n",
    "# set relation type\n",
    "relation= sk.FirstOrderLinearTIR(C, B)\n",
    "relation.setDPtr(D)"
   ]
  },
  {
   "cell_type": "markdown",
   "metadata": {},
   "source": [
    "Each diode of the bridge is supposed to be ideal, with the behavior shown on left-hand sketch of the figure below\n",
    "\n",
    "![title](../figures/diodeNonsmooth.png \"IdealDiode\")\n",
    "\n",
    "Such a behavior can be described with a **complementarity condition** between current and the opposite of the voltage.\n",
    "\n",
    "Complementarity between two variables $y \\in R^m, \\lambda \\in R^m$ reads as\n",
    "\n",
    "$$\\text{if }  \\lambda = 0   \\ \\text{ then } \\ y\\geq 0  \\  \\text{ and }  \\ \\text{ if } \\ \\lambda > 0 \\ \\text{ then } \\ y = 0$$\n",
    "\n",
    "or, using $\\perp$ symbol,\n",
    "\n",
    "$$0 \\leq y\\, \\perp \\, \\lambda \\geq 0$$\n",
    "\n",
    "which means that $y^T\\lambda=0$. \n",
    "The inequalities must be considered component-wise for vectors.\n",
    "   \n",
    "Then, back to our circuit, the complementarity conditions, coming from the ideal diodes characteristics, are given by:\n",
    "\n",
    "$$\n",
    "   \\begin{array}{l}\n",
    "   0 \\leq -v_{DR1} \\, \\perp \\, i_{DR1} \\geq 0\\\\\n",
    "   0 \\leq -v_{DF2} \\, \\perp \\, i_{DF2} \\geq 0\\\\\n",
    "   0 \\leq i_{DF1} \\, \\perp \\, -v_{DF1} \\geq 0\\\\\n",
    "   0 \\leq i_{DR2} \\, \\perp \\, -v_{DR2} \\geq 0\\\\\n",
    "   \\end{array} \\ \\ \\ \\ \\ \\ or \\ \\ \\ \\ \\ \\  0 \\leq y \\, \\perp \\, \\lambda \\geq 0\n",
    "$$\n",
    "\n",
    "Note that depending on the diode position in the bridge, $y_i$ stands for the opposite of the  voltages across\n",
    "the diode or for the diode current.\n",
    "\n",
    "To represent such a nonsmooth law Siconos has a class `ComplementarityConditionNSL` (you will find NSL in each class-name defining a nonsmooth law):"
   ]
  },
  {
   "cell_type": "code",
   "execution_count": null,
   "metadata": {},
   "outputs": [],
   "source": [
    "interaction_size = 4  # number of constraints\n",
    "nonsmooth_law = sk.ComplementarityConditionNSL(interaction_size)"
   ]
  },
  {
   "cell_type": "markdown",
   "metadata": {},
   "source": [
    "A `NonSmoothLaw`  and a `Relation` is joint into an object called `Interaction` in Siconos"
   ]
  },
  {
   "cell_type": "code",
   "execution_count": null,
   "metadata": {},
   "outputs": [],
   "source": [
    "interaction = sk.Interaction(nonsmooth_law, relation)"
   ]
  },
  {
   "cell_type": "markdown",
   "metadata": {},
   "source": [
    "Notice that this interaction just describes a relation and a nmonsooth law but is not connected to any real dynamical system, for the moment.\n",
    "  \n",
    "The modeling part is almost complete, since only one dynamical system and one interaction are needed to describe the problem.\n",
    "They must be gathered into a specific object, the `NonSmoothDynamicalSystem`. The construction of this object is  simple: just set the time window for the simulation, insert the dynamical systems and link them to the interaction."
   ]
  },
  {
   "cell_type": "code",
   "execution_count": null,
   "metadata": {},
   "outputs": [],
   "source": [
    "# dynamical systems and interactions must be gathered into a model\n",
    "t0 = 0. # initial time\n",
    "T = 5.0e-3 # duration of the simulation\n",
    "DiodeBridge = sk.NonSmoothDynamicalSystem(t0, T)\n",
    "# add the dynamical system in the nonsmooth dynamical system of the model\n",
    "DiodeBridge.insertDynamicalSystem(ds)\n",
    "# link the interaction and the dynamical system\n",
    "DiodeBridge.link(interaction, ds)"
   ]
  },
  {
   "cell_type": "markdown",
   "metadata": {},
   "source": [
    "At this stage, the modeling of the nonsmooth dynamical system is complete and we can simulate it."
   ]
  },
  {
   "cell_type": "markdown",
   "metadata": {},
   "source": [
    "# II - Simulation definition\n",
    "\n",
    "It's time to describe how our nonsmooth dynamical system will be discretized, formulated and solved.\n",
    "We need first to define how the nonsmooth dynamical system will be integrated in time. This is the role of the `Simulation`, which must define:\n",
    "\n",
    "* how dynamical systems are discretized and integrated over a time step\n",
    "* how the resulting  One-Step NonSmooth Problem (OSNSP) will be formulates and solved\n",
    "\n",
    "Two different strategies are available : event-capturing time-stepping schemes (a.k.a time stepping schemes) and event-detecting time--stepping schemes (a.k.a event-driven schemes). \n",
    "\n",
    "For the Diode Bridge example, an event-capturing strategy will be used, with an Euler-Moreau integrator and a LCP (Linear Complementarity Problem) formulation for the OSNSP.\n",
    "\n",
    "Let us start with the 'one-step integrator', i.e. the description of the discretisation and integration of the dynamics over a time step, between time $t_k$ and $t_{k+1}$. The integration of the equation over the time step is based on a $\\theta$-method leading to:\n",
    "\n",
    "$$ \n",
    "\\begin{array}{ccc}\n",
    "    x_{k+1} &=& x^{\\rm{free}}_{k}  +  hW^{-1}r_{k+1} \\\\\n",
    "    W &=& (I - h\\theta A) \\\\\n",
    "    x^{\\rm{free}}_k &=& W^{-1}((I+h(1-\\theta)A) x_k + b)\n",
    "\\end{array}\n",
    "$$\n",
    "\n",
    "\n",
    "This is implemented in Siconos in the class `EulerMoreauOSI`."
   ]
  },
  {
   "cell_type": "code",
   "execution_count": null,
   "metadata": {},
   "outputs": [],
   "source": [
    "theta = 0.5\n",
    "osi = sk.EulerMoreauOSI(theta)"
   ]
  },
  {
   "cell_type": "markdown",
   "metadata": {},
   "source": [
    "Based on the simulation strategy and the time-integration, a one-step nonsmooth problem will be computed in Siconos. \n",
    "\n",
    "Considering the following implicit discretization of the previously defined relations and nonsmooth law\n",
    "\n",
    "$$   \n",
    "\\begin{array}{ccc}\n",
    "   y_{k+1} &=& C x_{k+1} + D \\lambda_{k+1} \\\\\t\n",
    "   r_{k+1} &=& B \\lambda_{k+1}\\\\\n",
    "   0 \\leq y_{k+1}\\ &\\perp&  \\lambda_{k+1} \\geq 0\n",
    "   \\end{array}\n",
    "$$\n",
    "we get\n",
    "\n",
    "$$\n",
    "\\begin{array}{ccc}\n",
    "   y_{k+1} &=& q + M\\lambda_{k+1} \\\\\n",
    "   0 \\leq y_{k+1}\\ &\\perp&  \\lambda_{k+1} \\geq 0\n",
    "   \\end{array}\n",
    "$$\n",
    "\n",
    "with $q = Cx^{\\rm{free}}_{k+1},\\quad    M = hCW^{-1}B + D$\n",
    "\n",
    "This is known as a Linear Complementarity Problem $\\rm{LCP}(M,q)$, implemented in Siconos thanks `LCP` class.\n",
    "\n",
    "\n",
    "You can check user documentation for a complete review of the nonsmooth problems formulations available in Siconos."
   ]
  },
  {
   "cell_type": "code",
   "execution_count": null,
   "metadata": {},
   "outputs": [],
   "source": [
    "osnspb = sk.LCP()"
   ]
  },
  {
   "cell_type": "markdown",
   "metadata": {},
   "source": [
    "Depending on the chosen formulation, different solvers are available. You can for example change the default solver (Lemke solver in that case) for a non-symmetric QP solver, as illustrated below.\n",
    "\n",
    "A complete list of available solvers can be found in the documentation for LCP solvers: \n",
    "https://nonsmooth.gricad-pages.univ-grenoble-alpes.fr/siconos/users_guide/lcp_solvers.html"
   ]
  },
  {
   "cell_type": "code",
   "execution_count": null,
   "metadata": {},
   "outputs": [],
   "source": [
    "osnspb = sk.LCP(sn.SICONOS_LCP_NSQP)"
   ]
  },
  {
   "cell_type": "markdown",
   "metadata": {},
   "source": [
    "Then the last step consists in the simulation construction, with a `TimeDiscretisation` instance."
   ]
  },
  {
   "cell_type": "code",
   "execution_count": null,
   "metadata": {},
   "outputs": [],
   "source": [
    "# simulation and time discretisation\n",
    "time_step =  1.0e-6\n",
    "td = sk.TimeDiscretisation(t0, time_step)\n",
    "simu = sk.TimeStepping(DiodeBridge, td, osi, osnspb)"
   ]
  },
  {
   "cell_type": "markdown",
   "metadata": {},
   "source": [
    "The model is now complete and ready to run\n",
    "\n",
    "# III -  Running the simulation\n",
    "\n"
   ]
  },
  {
   "cell_type": "markdown",
   "metadata": {},
   "source": [
    "There are several options to run the simulation. The most simple is as follows. In this version, the events are the instants of the time discretization but other events of different type may be scheduled."
   ]
  },
  {
   "cell_type": "code",
   "execution_count": null,
   "metadata": {},
   "outputs": [],
   "source": [
    "#while simu.hasNextEvent():\n",
    "#    simu.computeOneStep() # Solve the LCP\n",
    "#    simu.nextStep() # Save current vars and prepare next step"
   ]
  },
  {
   "cell_type": "markdown",
   "metadata": {},
   "source": [
    "For the present case, the variables x,y and λ at each time step will be plotted. Below, we show how to get and save them in a numpy array/"
   ]
  },
  {
   "cell_type": "code",
   "execution_count": null,
   "metadata": {},
   "outputs": [],
   "source": [
    "N = int((T - t0) / simu.timeStep()) + 1\n",
    "data_plot = np.zeros((N, 8))  # numpy array to save data for plotting.\n",
    "\n",
    "y = interaction.y(0)          # pointer on the variable y in the interaction\n",
    "lamb = interaction.lambda_(0) # pointer on the variable lambda in the interaction\n",
    "x = ds.x()                    # pointer on the variable x in the dynamical system\n",
    "\n",
    "# store the initial values.\n",
    "k = 0 \n",
    "data_plot[k, 1] = x[0]           # inductor voltage\n",
    "data_plot[k, 2] = x[1]           # inductor current\n",
    "data_plot[k, 3] = y[0]           # diode R1 current\n",
    "data_plot[k, 4] = -lamb[0]       # diode R1 voltage\n",
    "data_plot[k, 5] = -lamb[1]       # diode F2 voltage\n",
    "data_plot[k, 6] = lamb[2]        # diode F1 current\n",
    "data_plot[k, 7] = y[0] + lamb[2] # resistor current\n",
    "\n",
    "k += 1\n",
    "\n",
    "while simu.hasNextEvent():\n",
    "    \n",
    "    simu.computeOneStep() # compute one step\n",
    "    \n",
    "    # store the values for post-processing\n",
    "    data_plot[k, 0] = simu.nextTime()\n",
    "    data_plot[k, 1] = x[0]\n",
    "    data_plot[k, 2] = x[1]\n",
    "    data_plot[k, 3] = y[0]\n",
    "    data_plot[k, 4] = - lamb[0]\n",
    "    data_plot[k, 5] = - lamb[1]\n",
    "    data_plot[k, 6] = lamb[2]\n",
    "    data_plot[k, 7] = y[0] + lamb[2]\n",
    "    \n",
    "    \n",
    "    simu.nextStep() # Save current varis and prepare next step\n",
    "    \n",
    "    k += 1          # increment for data_plot\n",
    "    "
   ]
  },
  {
   "cell_type": "markdown",
   "metadata": {},
   "source": [
    "\n",
    "* `hasNextEvent()` is true as long as there are events to be considered, i.e. until T is reached\n",
    "* `nextStep()` is mainly used to increment the time step, save current state and prepare initial values for next step.\n",
    "* `computeOneStep()` performs computation over the current time step. In the `EulerMoreauOSI` time stepping case, it will first integrate the dynamics to\n",
    "  obtain the so-called free-state $x_{k}^{\\rm{free}}$ and then it will compute $M$ and $q$ and solve the $\\rm{LCP}(M,q)$\n",
    "\n",
    "The results can now be postprocessed, using, for instsnce,  `matplotlib.pyplot`"
   ]
  },
  {
   "cell_type": "markdown",
   "metadata": {},
   "source": [
    "## IV - Post-processing"
   ]
  },
  {
   "cell_type": "code",
   "execution_count": null,
   "metadata": {},
   "outputs": [],
   "source": [
    "import matplotlib.pyplot as plt\n",
    "%matplotlib inline\n",
    "plt.figure(figsize=(15,10))\n",
    "plt.subplot(411)\n",
    "plt.title('inductor voltage')\n",
    "plt.plot(data_plot[1:k - 1, 0], data_plot[1:k - 1, 1])\n",
    "plt.grid()\n",
    "plt.subplot(412)\n",
    "plt.title('inductor current')\n",
    "plt.plot(data_plot[1:k - 1, 0], data_plot[1:k - 1, 2])\n",
    "plt.grid()\n",
    "plt.subplot(413)\n",
    "plt.title('diode R1 (blue) and F2 (green) voltage')\n",
    "plt.plot(data_plot[1:k - 1, 0], -data_plot[1:k - 1, 4])\n",
    "plt.plot(data_plot[1:k - 1, 0], data_plot[1:k - 1, 5])\n",
    "plt.grid()\n",
    "plt.subplot(414)\n",
    "plt.title('resistor current')\n",
    "plt.plot(data_plot[1:k - 1, 0], data_plot[1:k - 1, 7])\n",
    "plt.grid()"
   ]
  },
  {
   "cell_type": "markdown",
   "metadata": {},
   "source": [
    "# V - Questions\n",
    "\n",
    "Let us consider the following function $V : \\mathbb R^2 \\rightarrow \\mathbb R $:\n",
    "$$\n",
    "V(x) = \\frac 1 2 x^T P x \n",
    "$$\n",
    "with \n",
    "$P = \\begin{bmatrix} C & 0 \\\\ 0 & L\\end{bmatrix}$\n",
    "\n",
    "\n",
    "1. Plot the trajectory of the system in the configuration plane $(x_1,x_2)$\n",
    "2. Guess an equilibrium point of the system with the numerical trajectory and proove that it is an equilibrium of the system\n",
    "3. Plot the contour (level set) of the function V using maltplotlib plt.contour()\n",
    "4. Show that the system is passive.\n",
    "5. Is the equilibrium is stable in the sense of Lyapunov ?\n",
    "6. Can we proove that the system is asymptotically stable ?\n",
    "\n"
   ]
  },
  {
   "cell_type": "code",
   "execution_count": null,
   "metadata": {},
   "outputs": [],
   "source": []
  }
 ],
 "metadata": {
  "kernelspec": {
   "display_name": "Python 3",
   "language": "python",
   "name": "python3"
  },
  "language_info": {
   "codemirror_mode": {
    "name": "ipython",
    "version": 3
   },
   "file_extension": ".py",
   "mimetype": "text/x-python",
   "name": "python",
   "nbconvert_exporter": "python",
   "pygments_lexer": "ipython3",
   "version": "3.5.7"
  }
 },
 "nbformat": 4,
 "nbformat_minor": 2
}
