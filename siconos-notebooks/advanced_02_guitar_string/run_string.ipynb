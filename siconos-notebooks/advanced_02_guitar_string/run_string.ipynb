{
 "cells": [
  {
   "cell_type": "markdown",
   "metadata": {},
   "source": [
    "Implementation of vibrating string model, described\n",
    "in JSV paper (Issanchou 2017) and using Siconos for contact\n",
    "simulation."
   ]
  },
  {
   "cell_type": "code",
   "execution_count": null,
   "metadata": {},
   "outputs": [],
   "source": [
    "from string_ds import StringDS\n",
    "from fret import Guitar, Fret\n",
    "import matplotlib.pyplot as plt\n",
    "import time"
   ]
  },
  {
   "cell_type": "code",
   "execution_count": null,
   "metadata": {},
   "outputs": [],
   "source": [
    "# ---- Description of the string ---\n",
    "# -- Geometry and material --\n",
    "G_string = {\n",
    "    'length': 1.002,\n",
    "    'diameter': 0.43e-3,\n",
    "    'density': 1.17e-3,\n",
    "    'B': 1.78e-5,\n",
    "    'tension': 180.5,\n",
    "}\n",
    "\n",
    "# A dictionnary with parameters required to compute quality factor\n",
    "damping_parameters = {\n",
    "    'nu_air': 1.8e-5,\n",
    "    'rho_air': 1.2,\n",
    "    'delta_ve': 4.5e-3,\n",
    "    '1/qte': 2.03e-4}"
   ]
  },
  {
   "cell_type": "code",
   "execution_count": null,
   "metadata": {},
   "outputs": [],
   "source": [
    "# -- Spatial discretisation (modal proj) and initial conditions --\n",
    "number_of_modes = 101\n",
    "ndof = number_of_modes + 2\n",
    "imax = int(ndof / 2)\n",
    "# -- The dynamical system(s) --"
   ]
  },
  {
   "cell_type": "code",
   "execution_count": null,
   "metadata": {},
   "outputs": [],
   "source": [
    "guitar_string_m = StringDS(ndof, geometry_and_material=G_string,\n",
    "                           damping_parameters=damping_parameters,\n",
    "                           umax=1.8e-3, imax=imax, use_sparse=False,\n",
    "                           modal_form=True)"
   ]
  },
  {
   "cell_type": "code",
   "execution_count": null,
   "metadata": {},
   "outputs": [],
   "source": [
    "fret_m = Fret(guitar_string_m, position=[imax, -0.00])"
   ]
  },
  {
   "cell_type": "code",
   "execution_count": null,
   "metadata": {},
   "outputs": [],
   "source": [
    "# -- The model to gather frets and strings and simulate the dynamics --\n",
    "t0 = 0.\n",
    "tend = 0.31\n",
    "guitar_model_m = Guitar(guitar_string_m, fret_m, [t0, tend], fs=2.01e5)"
   ]
  },
  {
   "cell_type": "code",
   "execution_count": null,
   "metadata": {},
   "outputs": [],
   "source": [
    "# -- Run the simulation --\n",
    "def run_simu(model):\n",
    "    k = 1\n",
    "    print(\"Start simulation ...\")\n",
    "    while model.simu.hasNextEvent():\n",
    "        model.simu.computeOneStep()\n",
    "        model.save_state(k)\n",
    "        k += 1\n",
    "        model.simu.nextStep()\n",
    "    print('End of simulation process.')"
   ]
  },
  {
   "cell_type": "code",
   "execution_count": null,
   "metadata": {},
   "outputs": [],
   "source": [
    "run_simu(guitar_model_m)"
   ]
  },
  {
   "cell_type": "code",
   "execution_count": null,
   "metadata": {},
   "outputs": [],
   "source": [
    "%matplotlib inline"
   ]
  },
  {
   "cell_type": "code",
   "execution_count": null,
   "metadata": {},
   "outputs": [],
   "source": [
    "plt.figure(figsize=(30, 20))\n",
    "fig2 = guitar_model_m.plot_state(1)\n"
   ]
  },
  {
   "cell_type": "code",
   "execution_count": null,
   "metadata": {},
   "outputs": [],
   "source": []
  }
 ],
 "metadata": {
  "kernelspec": {
   "display_name": "Python 3",
   "language": "python",
   "name": "python3"
  },
  "language_info": {
   "codemirror_mode": {
    "name": "ipython",
    "version": 3
   },
   "file_extension": ".py",
   "mimetype": "text/x-python",
   "name": "python",
   "nbconvert_exporter": "python",
   "pygments_lexer": "ipython3",
   "version": "3.5.7"
  }
 },
 "nbformat": 4,
 "nbformat_minor": 2
}
